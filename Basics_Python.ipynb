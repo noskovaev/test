{
 "cells": [
  {
   "cell_type": "markdown",
   "metadata": {},
   "source": [
    "### Задание 1"
   ]
  },
  {
   "cell_type": "code",
   "execution_count": 4,
   "metadata": {
    "scrolled": true
   },
   "outputs": [
    {
     "name": "stdout",
     "output_type": "stream",
     "text": [
      "Фраза 1 длиннее фразы 2\n"
     ]
    }
   ],
   "source": [
    "phrase_1='Насколько проще было бы писать программы, если бы не заказчики'\n",
    "phrase_2='640Кб должно хватить для любых задач. Билл Гейтс (по легенде)'\n",
    "if phrase_1>phrase_2:\n",
    "    print ('Фраза 1 длиннее фразы 2')\n",
    "elif phrase_1==phrase_2:\n",
    "    print ('Фразы равной длины')\n",
    "else:\n",
    "    print ('Фраза 2 длиннее фразы 1')"
   ]
  },
  {
   "cell_type": "code",
   "execution_count": 5,
   "metadata": {
    "scrolled": true
   },
   "outputs": [
    {
     "name": "stdout",
     "output_type": "stream",
     "text": [
      "Фразы равной длины\n"
     ]
    }
   ],
   "source": [
    "phrase_1='Насколько проще было бы писать программы, если бы не заказчики'\n",
    "phrase_2='Насколько проще было бы писать программы, если бы не заказчики'\n",
    "if phrase_1>phrase_2:\n",
    "    print ('Фраза 1 длиннее фразы 2')\n",
    "elif phrase_1==phrase_2:\n",
    "    print ('Фразы равной длины')\n",
    "else:\n",
    "    print ('Фраза 2 длиннее фразы 1')"
   ]
  },
  {
   "cell_type": "markdown",
   "metadata": {},
   "source": [
    "### Задание 2"
   ]
  },
  {
   "cell_type": "code",
   "execution_count": 1,
   "metadata": {
    "scrolled": false
   },
   "outputs": [
    {
     "name": "stdout",
     "output_type": "stream",
     "text": [
      "Введите год 2022\n",
      "Обычный год\n"
     ]
    }
   ],
   "source": [
    "year = int(input('Введите год '))\n",
    "if (year % 4 == 0):\n",
    "    print('Высокосный год')\n",
    "else:\n",
    "    print('Обычный год')"
   ]
  },
  {
   "cell_type": "markdown",
   "metadata": {},
   "source": [
    "### Задание 3"
   ]
  },
  {
   "cell_type": "code",
   "execution_count": 1,
   "metadata": {},
   "outputs": [
    {
     "name": "stdout",
     "output_type": "stream",
     "text": [
      "Введите день рождения 27\n",
      "Введите месяц рождения 5\n",
      "Близнецы\n"
     ]
    }
   ],
   "source": [
    "date=int(input('Введите день рождения '))\n",
    "month=int(input('Введите месяц рождения '))\n",
    "\n",
    "if (date>=22 and date<=31 and month==12) or (month==1 and date>=1 and date<=19):\n",
    "    print('Козерог')\n",
    "elif (date>=20 and date<=31 and month==1) or (month==2 and date>=1 and date<=18):\n",
    "    print('Водолей')\n",
    "elif (date>=19 and date<=29 and month==2) or (month==3 and date>=1 and date<=20):\n",
    "    print('Овен')\n",
    "elif (date>=21 and date<=31 and month==3) or (month==4 and date>=1 and date<=19):\n",
    "    print('Овен')\n",
    "elif (date>=20 and date<=30 and month==4) or (month==5 and date>=1 and date<=20):\n",
    "    print('Телец')\n",
    "elif (date>=21 and date<=31 and month==5) or (month==6 and date>=1 and date<=20):\n",
    "    print('Близнецы')\n",
    "elif (date>=21 and date<=30 and month==6) or (month==7 and date>=1 and date<=22):\n",
    "    print('Рак')\n",
    "elif (date>=23 and date<=31 and month==7) or (month==8 and date>=1 and date<=22):\n",
    "    print('Лев')\n",
    "elif (date>=23 and date<=31 and month==8) or (month==9 and date>=1 and date<=22):\n",
    "    print('Дева')\n",
    "elif (date>=23 and date<=30 and month==9) or (month==10 and date>=1 and date<=22):\n",
    "    print('Весы')\n",
    "elif (date>=23 and date<=31 and month==10) or (month==11 and date>=1 and date<=22):\n",
    "    print('Скорпион')\n",
    "elif (date>=23 and date<=30 and month==11) or (month==12 and date>=1 and date<=21):\n",
    "    print('Стрелец')"
   ]
  },
  {
   "cell_type": "markdown",
   "metadata": {},
   "source": [
    "### Задание 4"
   ]
  },
  {
   "cell_type": "code",
   "execution_count": 2,
   "metadata": {},
   "outputs": [
    {
     "name": "stdout",
     "output_type": "stream",
     "text": [
      "Ширина коробки 16\n",
      "Длина коробки 25\n",
      "Высота коробки 14\n",
      "Коробка №2\n",
      "Готово\n"
     ]
    }
   ],
   "source": [
    "width=10\n",
    "length=205\n",
    "height=5\n",
    "\n",
    "width=int(input('Ширина коробки '))\n",
    "length=int(input('Длина коробки '))\n",
    "height=int(input('Высота коробки '))\n",
    "\n",
    "if width<=15 and length<=15 and height<=15:\n",
    "    print('Коробка №1')\n",
    "elif (width>=15 and width<=50) or (length>=15 and length<=50) or (height>=15 and height<=50):\n",
    "    print('Коробка №2')\n",
    "elif length>200:\n",
    "    print('Упаковка для лыж')\n",
    "else:\n",
    "    print('Стандартная коробка №3')\n",
    "print('Готово')"
   ]
  },
  {
   "cell_type": "markdown",
   "metadata": {},
   "source": [
    "### Задание 5"
   ]
  },
  {
   "cell_type": "code",
   "execution_count": 6,
   "metadata": {},
   "outputs": [
    {
     "name": "stdout",
     "output_type": "stream",
     "text": [
      "Введите номер билета 123321\n",
      "Счастливый билет\n"
     ]
    }
   ],
   "source": [
    "num=[int(i) for i in input('Введите номер билета ')]\n",
    "\n",
    "if sum(num[:3])==sum(num[3:]):\n",
    "    print('Счастливый билет')\n",
    "else:\n",
    "    print('Обычный билет')"
   ]
  },
  {
   "cell_type": "markdown",
   "metadata": {},
   "source": [
    "### Задание 6"
   ]
  },
  {
   "cell_type": "code",
   "execution_count": 9,
   "metadata": {},
   "outputs": [
    {
     "name": "stdout",
     "output_type": "stream",
     "text": [
      "Введите тип фигуры прямоугольник\n",
      "Введите сторону a=15\n",
      "Введите сторону b=20\n",
      "300.0\n"
     ]
    }
   ],
   "source": [
    "import math\n",
    "tip=str(input('Введите тип фигуры '))\n",
    "if tip=='треугольник':\n",
    "    a=float(input('Введите сторону a='))\n",
    "    b=float(input('Введите сторону b='))\n",
    "    c=float(input('Введите сторону c='))\n",
    "    p=(a+b+c)/2\n",
    "    s=math.sqrt((p*(p-a)*(p-b)*(p-c)))\n",
    "elif tip=='прямоугольник':\n",
    "    a=float(input('Введите сторону a='))\n",
    "    b=float(input('Введите сторону b='))\n",
    "    s=a*b\n",
    "elif tip=='круг':\n",
    "    r=float(input('Введите радиус r='))\n",
    "    s=math.pi*(r**2)\n",
    "    \n",
    "print(s)"
   ]
  }
 ],
 "metadata": {
  "kernelspec": {
   "display_name": "Python 3",
   "language": "python",
   "name": "python3"
  },
  "language_info": {
   "codemirror_mode": {
    "name": "ipython",
    "version": 3
   },
   "file_extension": ".py",
   "mimetype": "text/x-python",
   "name": "python",
   "nbconvert_exporter": "python",
   "pygments_lexer": "ipython3",
   "version": "3.8.3"
  }
 },
 "nbformat": 4,
 "nbformat_minor": 4
}
